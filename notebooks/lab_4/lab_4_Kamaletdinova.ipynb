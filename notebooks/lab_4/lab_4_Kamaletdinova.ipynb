{
 "cells": [
  {
   "cell_type": "markdown",
   "metadata": {},
   "source": [
    "# Lab №4. Kamaletdinova Julia"
   ]
  },
  {
   "cell_type": "code",
   "execution_count": 113,
   "metadata": {},
   "outputs": [],
   "source": [
    "library(repr)\n",
    "library(ggplot2)"
   ]
  },
  {
   "cell_type": "markdown",
   "metadata": {},
   "source": [
    "#### Custom chi-square function"
   ]
  },
  {
   "cell_type": "code",
   "execution_count": 111,
   "metadata": {},
   "outputs": [],
   "source": [
    "chi_square <- function(data, feature1, feature2) {\n",
    "    n <- dim(data)[1]\n",
    "    r <- nlevels(feature1)\n",
    "    c <- nlevels(feature2)\n",
    "    \n",
    "    result <- list(statistics = 0,\n",
    "                   observed = table(levels(feature1), levels(feature2)),\n",
    "                   expected = table(levels(feature1), levels(feature2)),\n",
    "                   pvalue = 0, \n",
    "                   deg_freedom = 0)\n",
    "    \n",
    "    result$observed <- table(feature1, feature2)\n",
    "    result$deg_freedom <- (r - 1) * (c - 1)\n",
    "    \n",
    "    i <- 1\n",
    "    j <- 1\n",
    "    for (r_level in levels(feature1)) {\n",
    "        for (c_level in levels(feature2)) {\n",
    "            n_r <- dim(data[feature1 == r_level,])[1]\n",
    "            n_c <- dim(data[feature2 == c_level,])[1]\n",
    "            \n",
    "            observed <- dim(data[feature1 == levels(feature1)[1] & feature2 == levels(feature2)[1],])[1]\n",
    "            expected <- (n_r * n_c) / n\n",
    "            result$statistics <- result$statistics + ((observed - expected)^2) / n\n",
    "            result$expected[i, j] <- expected\n",
    "            \n",
    "            j <- j + 1\n",
    "        }\n",
    "        i <- i + 1\n",
    "        j <- 1\n",
    "    }\n",
    "    result$pvalue <- pchisq(result$statistics, \n",
    "                            df = result$deg_freedom, \n",
    "                            lower.tail = FALSE)\n",
    "    return(result)\n",
    "}"
   ]
  },
  {
   "cell_type": "code",
   "execution_count": 51,
   "metadata": {},
   "outputs": [
    {
     "data": {
      "text/html": [
       "<table>\n",
       "<thead><tr><th scope=col>X</th><th scope=col>Germ</th><th scope=col>GBegF</th><th scope=col>BegFEndF</th><th scope=col>EndFBegM</th><th scope=col>BegMEndM</th><th scope=col>Height</th><th scope=col>Hlp</th><th scope=col>NoPodsWeight</th><th scope=col>PodsWeight</th><th scope=col>⋯</th><th scope=col>AscoRes</th><th scope=col>StemBr</th><th scope=col>StemL1ord</th><th scope=col>StemBr1ord</th><th scope=col>StemBr2ord</th><th scope=col>PodD</th><th scope=col>PodS</th><th scope=col>PodShape</th><th scope=col>SeedShape</th><th scope=col>SeedCol</th></tr></thead>\n",
       "<tbody>\n",
       "\t<tr><td>0         </td><td>-2.12899  </td><td>-0.9808181</td><td> 0.2691854</td><td>-0.1585673</td><td>-1.0883455</td><td> 0.7900028</td><td> 0.5494152</td><td> 0.7037179</td><td> 0.7337723</td><td>⋯         </td><td>3         </td><td>2         </td><td>1         </td><td>1         </td><td>0         </td><td>0         </td><td>0         </td><td>1         </td><td>0         </td><td>1         </td></tr>\n",
       "\t<tr><td>1         </td><td>-2.12899  </td><td>-0.6495050</td><td> 0.2691854</td><td>-0.1585673</td><td>-1.7436236</td><td> 0.6776419</td><td>-0.5445412</td><td> 0.7527438</td><td> 0.8547601</td><td>⋯         </td><td>2         </td><td>2         </td><td>1         </td><td>1         </td><td>0         </td><td>0         </td><td>1         </td><td>1         </td><td>0         </td><td>1         </td></tr>\n",
       "\t<tr><td>2         </td><td>-2.12899  </td><td>-0.6495050</td><td> 0.2691854</td><td>-0.9909240</td><td> 0.8774887</td><td> 0.4529201</td><td>-0.5445412</td><td> 0.3609298</td><td> 0.4388255</td><td>⋯         </td><td>2         </td><td>2         </td><td>1         </td><td>1         </td><td>0         </td><td>0         </td><td>1         </td><td>1         </td><td>0         </td><td>1         </td></tr>\n",
       "\t<tr><td>3         </td><td>-2.12899  </td><td> 0.6757476</td><td>-0.5464464</td><td>-0.4003575</td><td>-0.4330675</td><td> 0.6776419</td><td> 0.9869978</td><td> 0.7633832</td><td> 0.1432029</td><td>⋯         </td><td>3         </td><td>1         </td><td>1         </td><td>1         </td><td>0         </td><td>0         </td><td>1         </td><td>1         </td><td>0         </td><td>1         </td></tr>\n",
       "\t<tr><td>4         </td><td>-2.12899  </td><td>-1.3121313</td><td> 0.4461669</td><td>-0.4003575</td><td>-1.0883455</td><td>-0.3336062</td><td> 0.5494152</td><td>-0.8607554</td><td>-0.1032154</td><td>⋯         </td><td>1         </td><td>3         </td><td>0         </td><td>1         </td><td>1         </td><td>0         </td><td>1         </td><td>1         </td><td>0         </td><td>1         </td></tr>\n",
       "\t<tr><td>5         </td><td>-2.12899  </td><td>-0.9808181</td><td> 0.6145117</td><td>-0.9909240</td><td> 1.5327668</td><td> 0.1158374</td><td>-0.5445412</td><td>-0.2002730</td><td> 0.7816652</td><td>⋯         </td><td>1         </td><td>3         </td><td>1         </td><td>1         </td><td>1         </td><td>1         </td><td>1         </td><td>1         </td><td>0         </td><td>2         </td></tr>\n",
       "</tbody>\n",
       "</table>\n"
      ],
      "text/latex": [
       "\\begin{tabular}{r|lllllllllllllllllllllllllllllll}\n",
       " X & Germ & GBegF & BegFEndF & EndFBegM & BegMEndM & Height & Hlp & NoPodsWeight & PodsWeight & ⋯ & AscoRes & StemBr & StemL1ord & StemBr1ord & StemBr2ord & PodD & PodS & PodShape & SeedShape & SeedCol\\\\\n",
       "\\hline\n",
       "\t 0          & -2.12899   & -0.9808181 &  0.2691854 & -0.1585673 & -1.0883455 &  0.7900028 &  0.5494152 &  0.7037179 &  0.7337723 & ⋯          & 3          & 2          & 1          & 1          & 0          & 0          & 0          & 1          & 0          & 1         \\\\\n",
       "\t 1          & -2.12899   & -0.6495050 &  0.2691854 & -0.1585673 & -1.7436236 &  0.6776419 & -0.5445412 &  0.7527438 &  0.8547601 & ⋯          & 2          & 2          & 1          & 1          & 0          & 0          & 1          & 1          & 0          & 1         \\\\\n",
       "\t 2          & -2.12899   & -0.6495050 &  0.2691854 & -0.9909240 &  0.8774887 &  0.4529201 & -0.5445412 &  0.3609298 &  0.4388255 & ⋯          & 2          & 2          & 1          & 1          & 0          & 0          & 1          & 1          & 0          & 1         \\\\\n",
       "\t 3          & -2.12899   &  0.6757476 & -0.5464464 & -0.4003575 & -0.4330675 &  0.6776419 &  0.9869978 &  0.7633832 &  0.1432029 & ⋯          & 3          & 1          & 1          & 1          & 0          & 0          & 1          & 1          & 0          & 1         \\\\\n",
       "\t 4          & -2.12899   & -1.3121313 &  0.4461669 & -0.4003575 & -1.0883455 & -0.3336062 &  0.5494152 & -0.8607554 & -0.1032154 & ⋯          & 1          & 3          & 0          & 1          & 1          & 0          & 1          & 1          & 0          & 1         \\\\\n",
       "\t 5          & -2.12899   & -0.9808181 &  0.6145117 & -0.9909240 &  1.5327668 &  0.1158374 & -0.5445412 & -0.2002730 &  0.7816652 & ⋯          & 1          & 3          & 1          & 1          & 1          & 1          & 1          & 1          & 0          & 2         \\\\\n",
       "\\end{tabular}\n"
      ],
      "text/markdown": [
       "\n",
       "X | Germ | GBegF | BegFEndF | EndFBegM | BegMEndM | Height | Hlp | NoPodsWeight | PodsWeight | ⋯ | AscoRes | StemBr | StemL1ord | StemBr1ord | StemBr2ord | PodD | PodS | PodShape | SeedShape | SeedCol | \n",
       "|---|---|---|---|---|---|\n",
       "| 0          | -2.12899   | -0.9808181 |  0.2691854 | -0.1585673 | -1.0883455 |  0.7900028 |  0.5494152 |  0.7037179 |  0.7337723 | ⋯          | 3          | 2          | 1          | 1          | 0          | 0          | 0          | 1          | 0          | 1          | \n",
       "| 1          | -2.12899   | -0.6495050 |  0.2691854 | -0.1585673 | -1.7436236 |  0.6776419 | -0.5445412 |  0.7527438 |  0.8547601 | ⋯          | 2          | 2          | 1          | 1          | 0          | 0          | 1          | 1          | 0          | 1          | \n",
       "| 2          | -2.12899   | -0.6495050 |  0.2691854 | -0.9909240 |  0.8774887 |  0.4529201 | -0.5445412 |  0.3609298 |  0.4388255 | ⋯          | 2          | 2          | 1          | 1          | 0          | 0          | 1          | 1          | 0          | 1          | \n",
       "| 3          | -2.12899   |  0.6757476 | -0.5464464 | -0.4003575 | -0.4330675 |  0.6776419 |  0.9869978 |  0.7633832 |  0.1432029 | ⋯          | 3          | 1          | 1          | 1          | 0          | 0          | 1          | 1          | 0          | 1          | \n",
       "| 4          | -2.12899   | -1.3121313 |  0.4461669 | -0.4003575 | -1.0883455 | -0.3336062 |  0.5494152 | -0.8607554 | -0.1032154 | ⋯          | 1          | 3          | 0          | 1          | 1          | 0          | 1          | 1          | 0          | 1          | \n",
       "| 5          | -2.12899   | -0.9808181 |  0.6145117 | -0.9909240 |  1.5327668 |  0.1158374 | -0.5445412 | -0.2002730 |  0.7816652 | ⋯          | 1          | 3          | 1          | 1          | 1          | 1          | 1          | 1          | 0          | 2          | \n",
       "\n",
       "\n"
      ],
      "text/plain": [
       "  X Germ     GBegF      BegFEndF   EndFBegM   BegMEndM   Height     Hlp       \n",
       "1 0 -2.12899 -0.9808181  0.2691854 -0.1585673 -1.0883455  0.7900028  0.5494152\n",
       "2 1 -2.12899 -0.6495050  0.2691854 -0.1585673 -1.7436236  0.6776419 -0.5445412\n",
       "3 2 -2.12899 -0.6495050  0.2691854 -0.9909240  0.8774887  0.4529201 -0.5445412\n",
       "4 3 -2.12899  0.6757476 -0.5464464 -0.4003575 -0.4330675  0.6776419  0.9869978\n",
       "5 4 -2.12899 -1.3121313  0.4461669 -0.4003575 -1.0883455 -0.3336062  0.5494152\n",
       "6 5 -2.12899 -0.9808181  0.6145117 -0.9909240  1.5327668  0.1158374 -0.5445412\n",
       "  NoPodsWeight PodsWeight ⋯ AscoRes StemBr StemL1ord StemBr1ord StemBr2ord PodD\n",
       "1  0.7037179    0.7337723 ⋯ 3       2      1         1          0          0   \n",
       "2  0.7527438    0.8547601 ⋯ 2       2      1         1          0          0   \n",
       "3  0.3609298    0.4388255 ⋯ 2       2      1         1          0          0   \n",
       "4  0.7633832    0.1432029 ⋯ 3       1      1         1          0          0   \n",
       "5 -0.8607554   -0.1032154 ⋯ 1       3      0         1          1          0   \n",
       "6 -0.2002730    0.7816652 ⋯ 1       3      1         1          1          1   \n",
       "  PodS PodShape SeedShape SeedCol\n",
       "1 0    1        0         1      \n",
       "2 1    1        0         1      \n",
       "3 1    1        0         1      \n",
       "4 1    1        0         1      \n",
       "5 1    1        0         1      \n",
       "6 1    1        0         2      "
      ]
     },
     "metadata": {},
     "output_type": "display_data"
    }
   ],
   "source": [
    "df = read.table('nut_dataframe.csv', sep=',', header=TRUE, na.strings=\"NA\")\n",
    "head(df)"
   ]
  },
  {
   "cell_type": "code",
   "execution_count": 221,
   "metadata": {},
   "outputs": [
    {
     "data": {
      "text/plain": [
       "       X              Germ             GBegF            BegFEndF      \n",
       " Min.   :  0.0   Min.   :-2.1290   Min.   :-4.9566   Min.   :-5.1070  \n",
       " 1st Qu.:100.8   1st Qu.: 0.1167   1st Qu.:-0.6495   1st Qu.:-0.7845  \n",
       " Median :201.5   Median : 0.1167   Median : 0.3444   Median :-0.1146  \n",
       " Mean   :201.5   Mean   : 0.0000   Mean   : 0.0000   Mean   : 0.0000  \n",
       " 3rd Qu.:302.2   3rd Qu.: 0.1167   3rd Qu.: 0.3444   3rd Qu.: 0.6145  \n",
       " Max.   :403.0   Max.   : 2.3625   Max.   : 6.9707   Max.   : 3.1666  \n",
       " NA's   :2       NA's   :2         NA's   :2         NA's   :2        \n",
       "    EndFBegM           BegMEndM           Height             Hlp         \n",
       " Min.   :-4.66913   Min.   :-2.7265   Min.   :-3.2550   Min.   :-2.0761  \n",
       " 1st Qu.:-0.67448   1st Qu.:-0.7607   1st Qu.:-0.4460   1st Qu.:-0.5445  \n",
       " Median : 0.05772   Median :-0.1054   Median : 0.1158   Median :-0.1070  \n",
       " Mean   : 0.00000   Mean   : 0.0000   Mean   : 0.0000   Mean   : 0.0000  \n",
       " 3rd Qu.: 0.59631   3rd Qu.: 0.5498   3rd Qu.: 0.6776   3rd Qu.: 0.7682  \n",
       " Max.   : 2.50866   Max.   : 7.4303   Max.   : 4.0485   Max.   : 4.4877  \n",
       " NA's   :2          NA's   :2         NA's   :2         NA's   :2        \n",
       "  NoPodsWeight         PodsWeight         PodsNumber        SeedsNumber     \n",
       " Min.   :-2.701665   Min.   :-3.03051   Min.   :-4.87948   Min.   :-4.4120  \n",
       " 1st Qu.:-0.706551   1st Qu.:-0.61425   1st Qu.:-0.48403   1st Qu.:-0.5117  \n",
       " Median : 0.004607   Median : 0.03854   Median : 0.09195   Median : 0.1291  \n",
       " Mean   : 0.000000   Mean   : 0.00000   Mean   : 0.00000   Mean   : 0.0000  \n",
       " 3rd Qu.: 0.748729   3rd Qu.: 0.68021   3rd Qu.: 0.62234   3rd Qu.: 0.6088  \n",
       " Max.   : 2.510407   Max.   : 2.38068   Max.   : 2.52425   Max.   : 2.1604  \n",
       " NA's   :2           NA's   :2          NA's   :2          NA's   :2        \n",
       "  SeedsWeight         PodLength          PodWidth         Seed1000W       \n",
       " Min.   :-4.59853   Min.   :-2.1066   Min.   :-2.3336   Min.   :-2.21414  \n",
       " 1st Qu.:-0.49329   1st Qu.:-0.7356   1st Qu.:-0.6873   1st Qu.:-0.85643  \n",
       " Median : 0.09537   Median :-0.3928   Median :-0.1385   Median :-0.02618  \n",
       " Mean   : 0.00000   Mean   : 0.0000   Mean   : 0.0000   Mean   : 0.00000  \n",
       " 3rd Qu.: 0.67524   3rd Qu.: 0.6354   3rd Qu.: 0.5474   3rd Qu.: 0.75459  \n",
       " Max.   : 2.12806   Max.   : 6.4623   Max.   : 2.6053   Max.   : 2.20723  \n",
       " NA's   :2          NA's   :2         NA's   :2         NA's   :2         \n",
       " FloCol  StemCol BushShape LeafSize FlowStemCol AscoRes StemBr  StemL1ord\n",
       " 0:163   0:232   0:209     0:127    0:231       0: 68   0: 18   0:107    \n",
       " 1: 51   1: 55   1:197     1:241    1:175       1:138   1: 34   1:255    \n",
       " 2:192   2:119             2: 38                2:111   2: 96   2: 44    \n",
       "                                                3: 89   3:258            \n",
       "                                                                         \n",
       "                                                                         \n",
       "                                                                         \n",
       " StemBr1ord StemBr2ord PodD    PodS    PodShape SeedShape SeedCol\n",
       " 0:161      0:300      0:200   0:197   0: 56    0:305     0:163  \n",
       " 1:245      1:106      1:206   1:209   1:350    1:101     1:213  \n",
       "                                                          2: 30  \n",
       "                                                                 \n",
       "                                                                 \n",
       "                                                                 \n",
       "                                                                 "
      ]
     },
     "metadata": {},
     "output_type": "display_data"
    }
   ],
   "source": [
    "summary(df)"
   ]
  },
  {
   "cell_type": "markdown",
   "metadata": {},
   "source": [
    "#### Categorial variables as factors"
   ]
  },
  {
   "cell_type": "code",
   "execution_count": 52,
   "metadata": {},
   "outputs": [],
   "source": [
    "df[,seq(17, dim(df)[2])] <- lapply(df[,seq(17, dim(df)[2])], factor)"
   ]
  },
  {
   "cell_type": "code",
   "execution_count": 238,
   "metadata": {},
   "outputs": [
    {
     "data": {
      "text/plain": [
       "\n",
       "\tPearson's Chi-squared test with Yates' continuity correction\n",
       "\n",
       "data:  table(df$FlowStemCol, df$BushShape)\n",
       "X-squared = 13.89, df = 1, p-value = 0.0001938\n"
      ]
     },
     "metadata": {},
     "output_type": "display_data"
    },
    {
     "name": "stdout",
     "output_type": "stream",
     "text": [
      "[1] \"Observed\"\n"
     ]
    },
    {
     "data": {
      "text/plain": [
       "   \n",
       "      0   1\n",
       "  0 138  93\n",
       "  1  71 104"
      ]
     },
     "metadata": {},
     "output_type": "display_data"
    },
    {
     "name": "stdout",
     "output_type": "stream",
     "text": [
      "[1] \"Expected\"\n"
     ]
    },
    {
     "data": {
      "text/html": [
       "<table>\n",
       "<thead><tr><th></th><th scope=col>0</th><th scope=col>1</th></tr></thead>\n",
       "<tbody>\n",
       "\t<tr><th scope=row>0</th><td>118.91379</td><td>112.08621</td></tr>\n",
       "\t<tr><th scope=row>1</th><td> 90.08621</td><td> 84.91379</td></tr>\n",
       "</tbody>\n",
       "</table>\n"
      ],
      "text/latex": [
       "\\begin{tabular}{r|ll}\n",
       "  & 0 & 1\\\\\n",
       "\\hline\n",
       "\t0 & 118.91379 & 112.08621\\\\\n",
       "\t1 &  90.08621 &  84.91379\\\\\n",
       "\\end{tabular}\n"
      ],
      "text/markdown": [
       "\n",
       "| <!--/--> | 0 | 1 | \n",
       "|---|---|\n",
       "| 0 | 118.91379 | 112.08621 | \n",
       "| 1 |  90.08621 |  84.91379 | \n",
       "\n",
       "\n"
      ],
      "text/plain": [
       "   \n",
       "    0         1        \n",
       "  0 118.91379 112.08621\n",
       "  1  90.08621  84.91379"
      ]
     },
     "metadata": {},
     "output_type": "display_data"
    },
    {
     "name": "stdout",
     "output_type": "stream",
     "text": [
      "[1] \"Residuals\"\n"
     ]
    },
    {
     "data": {
      "text/plain": [
       "   \n",
       "            0         1\n",
       "  0  1.750264 -1.802783\n",
       "  1 -2.010900  2.071240"
      ]
     },
     "metadata": {},
     "output_type": "display_data"
    },
    {
     "name": "stdout",
     "output_type": "stream",
     "text": [
      "[1] \"Statisitics\"\n"
     ]
    },
    {
     "data": {
      "text/html": [
       "<strong>X-squared:</strong> 13.8898352480185"
      ],
      "text/latex": [
       "\\textbf{X-squared:} 13.8898352480185"
      ],
      "text/markdown": [
       "**X-squared:** 13.8898352480185"
      ],
      "text/plain": [
       "X-squared \n",
       " 13.88984 "
      ]
     },
     "metadata": {},
     "output_type": "display_data"
    }
   ],
   "source": [
    "test <- chisq.test(table(df$FlowStemCol, df$BushShape))\n",
    "test\n",
    "print('Observed')\n",
    "test$observed\n",
    "\n",
    "print('Expected')\n",
    "test$expected\n",
    "\n",
    "print('Residuals')\n",
    "test$residuals\n",
    "\n",
    "print('Statisitics')\n",
    "chi = test$statistic\n",
    "test$statistic"
   ]
  },
  {
   "cell_type": "markdown",
   "metadata": {},
   "source": [
    "#### Performance of custom chi-square test"
   ]
  },
  {
   "cell_type": "code",
   "execution_count": 239,
   "metadata": {},
   "outputs": [
    {
     "name": "stdout",
     "output_type": "stream",
     "text": [
      "[1] \"Observed\"\n"
     ]
    },
    {
     "data": {
      "text/plain": [
       "        feature2\n",
       "feature1   0   1\n",
       "       0 138  93\n",
       "       1  71 104"
      ]
     },
     "metadata": {},
     "output_type": "display_data"
    },
    {
     "name": "stdout",
     "output_type": "stream",
     "text": [
      "[1] \"Expected\"\n"
     ]
    },
    {
     "data": {
      "text/plain": [
       "   \n",
       "            0         1\n",
       "  0 118.91379 112.08621\n",
       "  1  90.08621  84.91379"
      ]
     },
     "metadata": {},
     "output_type": "display_data"
    },
    {
     "name": "stdout",
     "output_type": "stream",
     "text": [
      "[1] \"Statisitics\"\n"
     ]
    },
    {
     "data": {
      "text/html": [
       "15.1470071402213"
      ],
      "text/latex": [
       "15.1470071402213"
      ],
      "text/markdown": [
       "15.1470071402213"
      ],
      "text/plain": [
       "[1] 15.14701"
      ]
     },
     "metadata": {},
     "output_type": "display_data"
    },
    {
     "name": "stdout",
     "output_type": "stream",
     "text": [
      "[1] \"Df\"\n"
     ]
    },
    {
     "data": {
      "text/html": [
       "1"
      ],
      "text/latex": [
       "1"
      ],
      "text/markdown": [
       "1"
      ],
      "text/plain": [
       "[1] 1"
      ]
     },
     "metadata": {},
     "output_type": "display_data"
    },
    {
     "name": "stdout",
     "output_type": "stream",
     "text": [
      "[1] \"P-value\"\n"
     ]
    },
    {
     "data": {
      "text/html": [
       "9.94558399341104e-05"
      ],
      "text/latex": [
       "9.94558399341104e-05"
      ],
      "text/markdown": [
       "9.94558399341104e-05"
      ],
      "text/plain": [
       "[1] 9.945584e-05"
      ]
     },
     "metadata": {},
     "output_type": "display_data"
    }
   ],
   "source": [
    "test_custom <- chi_square(df, df$FlowStemCol, df$BushShape)\n",
    "print('Observed')\n",
    "test_custom$observed\n",
    "\n",
    "print('Expected')\n",
    "test_custom$expected\n",
    "\n",
    "print('Statisitics')\n",
    "chi = test_custom$statistic\n",
    "test_custom$statistic\n",
    "\n",
    "print(\"Df\")\n",
    "test_custom$deg_freedom\n",
    "\n",
    "print('P-value')\n",
    "test_custom$pvalue"
   ]
  },
  {
   "cell_type": "markdown",
   "metadata": {},
   "source": [
    "### Plot Chi-square statistics distribution"
   ]
  },
  {
   "cell_type": "code",
   "execution_count": 252,
   "metadata": {},
   "outputs": [
    {
     "data": {
      "image/png": "[encoded data removed]",
      "text/plain": [
       "plot without title"
      ]
     },
     "metadata": {},
     "output_type": "display_data"
    }
   ],
   "source": [
    "options(repr.plot.width=6, repr.plot.height=5)\n",
    "p <- 0.05\n",
    "gg <- data.frame(x = seq(0, 4, 0.1))\n",
    "gg$y <- dchisq(gg$x, test_custom$deg_freedom)\n",
    "cutoff <- qchisq(p, test_custom$deg_freedom, lower.tail = F)\n",
    "\n",
    "ggplot(gg, aes(x, y)) +\n",
    "        stat_function(fun = dt, \n",
    "                      args = list(df = test_custom$deg_freedom),\n",
    "                      xlim = c(0, cutoff),\n",
    "                      geom = \"area\",\n",
    "                      alpha = 0.4,\n",
    "                      fill = \"lightblue2\") +\n",
    "        stat_function(fun = dt, args = list(df = test_custom$deg_freedom)) +\n",
    "        geom_vline(xintercept = cutoff, \n",
    "                   linetype = \"dashed\",\n",
    "                   size = 1,\n",
    "                   col = \"darkslateblue\") +\n",
    "        geom_vline(xintercept = test_custom$statistic,\n",
    "                   linetype = \"dotted\",\n",
    "                   size = 1,\n",
    "                   col = \"darkslateblue\") +\n",
    "        labs(x = \"X\", y = \"Y\") +\n",
    "        annotate(geom = \"text\", x = test_custom$statistic - 1.4, y = 0.25, size = 5, label = \"Result\", \n",
    "                 color = \"black\") +\n",
    "        annotate(geom = \"text\", x = 2.5, y = 0.25, size = 5, label = \"Cut off\", \n",
    "                 color = \"black\") +\n",
    "        annotate(geom = \"text\", x = 1.3, y = 0.03, size = 5, label = \"95%\", \n",
    "                 color = \"lightblue4\") + \n",
    "        theme_light()"
   ]
  },
  {
   "cell_type": "markdown",
   "metadata": {},
   "source": [
    "### Biased variance"
   ]
  },
  {
   "cell_type": "markdown",
   "metadata": {},
   "source": [
    "\\begin{aligned}\n",
    "    \\operatorname{E} [S^{2}]&=\\operatorname{E} \\left[{\\frac {1}{n}}\\sum _{i=1}^{n}{\\big (}X_{i}-{\\overline {X}}{\\big )}^{2}\\right] =\n",
    "    \\operatorname {E} {\\bigg [}{\\frac {1}{n}}\\sum _{i=1}^{n}{\\bigg (}(X_{i}-\\mu )-\n",
    "    ({\\overline {X}}-\\mu ){\\bigg )}^{2}{\\bigg ]}\\\\[8pt]&=\n",
    "    \\operatorname {E} {\\bigg [}{\\frac {1}{n}}\\sum _{i=1}^{n}{\\bigg (}(X_{i}-\\mu )^{2}-2({\\overline {X}}-\\mu )(X_{i}-\\mu )+({\\overline {X}}-\\mu )^{2}{\\bigg )}{\\bigg ]}\\\\[8pt]&=\\operatorname {E} {\\bigg [}{\\frac {1}{n}}\\sum _{i=1}^{n}(X_{i}-\\mu )^{2}-{\\frac {2}{n}}({\\overline {X}}-\\mu )\\sum _{i=1}^{n}(X_{i}-\\mu )+{\\frac {1}{n}}({\\overline {X}}-\\mu )^{2}\\sum _{i=1}^{n}1{\\bigg ]}\\\\[8pt]&=\\operatorname {E} {\\bigg [}{\\frac {1}{n}}\\sum _{i=1}^{n}(X_{i}-\\mu )^{2}-{\\frac {2}{n}}({\\overline {X}}-\\mu )\\sum _{i=1}^{n}(X_{i}-\\mu )+{\\frac {1}{n}}({\\overline {X}}-\\mu )^{2}\\cdot n{\\bigg ]}\\\\[8pt]&=\\operatorname {E} {\\bigg [}{\\frac {1}{n}}\\sum _{i=1}^{n}(X_{i}-\\mu )^{2}-{\\frac {2}{n}}({\\overline {X}}-\\mu )\\sum _{i=1}^{n}(X_{i}-\\mu )+({\\overline {X}}-\\mu )^{2}{\\bigg ]}\\\\[8pt]\n",
    "\\end{aligned}"
   ]
  },
  {
   "cell_type": "markdown",
   "metadata": {},
   "source": [
    "\\begin{aligned}{\\text{Notice that}} \\end{aligned}"
   ]
  },
  {
   "cell_type": "markdown",
   "metadata": {},
   "source": [
    "\\begin{aligned}{\n",
    "\\overline {X}}-\\mu ={\\frac {1}{n}}\\sum _{i=1}^{n}X_{i}-\\mu ={\\frac {1}{n}}\\sum _{i=1}^{n}X_{i}-{\\frac {1}{n}}\\sum _{i=1}^{n}\\mu \\ ={\\frac {1}{n}}\\sum _{i=1}^{n}(X_{i}-\\mu ).\\\\[8pt]\n",
    "\\end{aligned}"
   ]
  },
  {
   "cell_type": "markdown",
   "metadata": {},
   "source": [
    "\\begin{aligned}{\\text{Then}} \\end{aligned}\n",
    "\\begin{aligned}{ n\\cdot ({\\overline {X}}-\\mu )=\\sum _{i=1}^{n}(X_{i}-\\mu )}\\end{aligned}"
   ]
  },
  {
   "cell_type": "markdown",
   "metadata": {},
   "source": [
    "\\begin{aligned}{\\text{Continuing with the last result}} \\end{aligned} \n",
    "\n",
    "\\begin{aligned}\n",
    "\\operatorname{E} [S^{2}]&=\\operatorname {E} {\\bigg [}{\\frac {1}{n}}\\sum _{i=1}^{n}(X_{i}-\\mu )^{2}-{\\frac {2}{n}}({\\overline {X}}-\n",
    "\\mu )\\sum _{i=1}^{n}(X_{i}-\\mu )+({\\overline {X}}-\\mu )^{2}{\\bigg ]}\\\\[8pt]&=\\operatorname {E} {\\bigg [}{\\frac {1}{n}}\\sum _{i=1}\n",
    "^{n}(X_{i}-\\mu )^{2}-{\\frac {2}{n}}({\\overline {X}}-\\mu )\\cdot n\\cdot ({\\overline {X}}-\\mu )+({\\overline {X}}-\\mu )^{2}{\\bigg ]}\n",
    "\\\\[8pt]&=\\operatorname {E} {\\bigg [}{\\frac {1}{n}}\\sum _{i=1}^{n}(X_{i}-\\mu )^{2}-2({\\overline {X}}-\\mu )^{2}+({\\overline {X}}-\n",
    "\\mu )^{2}{\\bigg ]}\\\\[8pt]&=\\operatorname {E} {\\bigg [}{\\frac {1}{n}}\\sum _{i=1}^{n}(X_{i}-\\mu )^{2}-({\\overline {X}}-\\mu )^{2}\n",
    "{\\bigg ]}\\\\[8pt]&=\\operatorname {E} {\\bigg [}{\\frac {1}{n}}\\sum _{i=1}^{n}(X_{i}-\\mu )^{2}{\\bigg ]}-\\operatorname {E} {\\bigg [}\n",
    "({\\overline {X}}-\\mu )^{2}{\\bigg ]}\\\\[8pt]&=\\sigma ^{2}-\\operatorname {E} \\left[({\\overline {X}}-\\mu )^{2}\\right]=\\left(1-{\\frac {1}\n",
    "{n}}\\right)\\sigma ^{2} = \\frac{n-1}{n}\\sigma ^{2} <\\sigma ^{2}.\n",
    "\\end{aligned}"
   ]
  },
  {
   "cell_type": "markdown",
   "metadata": {},
   "source": [
    "### Unbiased variance"
   ]
  },
  {
   "cell_type": "markdown",
   "metadata": {},
   "source": [
    "We have to multiply biased variance by $\\frac{n}{n-1}$ to have it unbiased"
   ]
  },
  {
   "cell_type": "markdown",
   "metadata": {},
   "source": [
    "$$S^2 = {\\frac {1}{n-1}}\\sum _{i=1}^{n}{\\big (}X_{i}-{\\overline {X}}{\\big )}^{2}$$"
   ]
  },
  {
   "cell_type": "code",
   "execution_count": null,
   "metadata": {},
   "outputs": [],
   "source": []
  }
 ],
 "metadata": {
  "kernelspec": {
   "display_name": "R",
   "language": "R",
   "name": "ir"
  },
  "language_info": {
   "codemirror_mode": "r",
   "file_extension": ".r",
   "mimetype": "text/x-r-source",
   "name": "R",
   "pygments_lexer": "r",
   "version": "3.5.1"
  }
 },
 "nbformat": 4,
 "nbformat_minor": 2
}
